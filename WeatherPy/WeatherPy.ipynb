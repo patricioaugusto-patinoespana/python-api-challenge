{
 "cells": [
  {
   "cell_type": "markdown",
   "metadata": {},
   "source": [
    "# WeatherPy\n",
    "\n",
    "---\n",
    "\n",
    "## Starter Code to Generate Random Geographic Coordinates and a List of Cities"
   ]
  },
  {
   "cell_type": "code",
   "execution_count": null,
   "metadata": {
    "scrolled": true,
    "tags": []
   },
   "outputs": [],
   "source": [
    "# Dependencies and Setup\n",
    "import matplotlib.pyplot as plt\n",
    "import pandas as pd\n",
    "import numpy as np\n",
    "import requests\n",
    "import time\n",
    "from scipy.stats import linregress\n",
    "\n",
    "# Impor the OpenWeatherMap API key\n",
    "from api_keys import weather_api_key\n",
    "\n",
    "# Import citipy to determine the cities based on latitude and longitude\n",
    "from citipy import citipy\n"
   ]
  },
  {
   "cell_type": "markdown",
   "metadata": {},
   "source": [
    "### Generate the Cities List by Using the `citipy` Library"
   ]
  },
  {
   "cell_type": "code",
   "execution_count": null,
   "metadata": {
    "tags": []
   },
   "outputs": [],
   "source": [
    "# Empty list for holding the latitude and longitude combinations\n",
    "lat_lngs = []\n",
    "\n",
    "# Empty list for holding the cities names\n",
    "cities = []\n",
    "\n",
    "# Range of latitudes and longitudes\n",
    "lat_range = (-90, 90)\n",
    "lng_range = (-180, 180)\n",
    "\n",
    "# Create a set of random lat and lng combinations\n",
    "lats = np.random.uniform(lat_range[0], lat_range[1], size=1500)\n",
    "lngs = np.random.uniform(lng_range[0], lng_range[1], size=1500)\n",
    "lat_lngs = zip(lats, lngs)\n",
    "\n",
    "# Identify nearest city for each lat, lng combination\n",
    "for lat_lng in lat_lngs:\n",
    "    city = citipy.nearest_city(lat_lng[0], lat_lng[1]).city_name\n",
    "\n",
    "    # If the city is unique, then add it to a our cities list\n",
    "    if city not in cities:\n",
    "        cities.append(city)\n",
    "\n",
    "# Print the city count to confirm sufficient count\n",
    "print(f\"Number of cities in the list: {len(cities)}\")\n"
   ]
  },
  {
   "cell_type": "markdown",
   "metadata": {},
   "source": [
    "---"
   ]
  },
  {
   "cell_type": "markdown",
   "metadata": {},
   "source": [
    "## Requirement 1: Create Plots to Showcase the Relationship Between Weather Variables and Latitude\n",
    "\n",
    "### Use the OpenWeatherMap API to retrieve weather data from the cities list generated in the started code"
   ]
  },
  {
   "cell_type": "code",
   "execution_count": null,
   "metadata": {
    "tags": []
   },
   "outputs": [],
   "source": [
    "# Set the API base URL\n",
    "url = f\"https://api.openweathermap.org/data/2.5/weather?q={city}&appid={weather_api_key}\"\n",
    "\n",
    "# Define an empty list to fetch the weather data for each city\n",
    "city_data = []\n",
    "\n",
    "# Print to logger\n",
    "print(\"Beginning Data Retrieval     \")\n",
    "print(\"-----------------------------\")\n",
    "\n",
    "# Create counters\n",
    "record_count = 1\n",
    "set_count = 1\n",
    "\n",
    "# Loop through all the cities in our list to fetch weather data\n",
    "for i, city in enumerate(cities):\n",
    "\n",
    "    # Group cities in sets of 50 for logging purposes\n",
    "    if (i % 50 == 0 and i >= 50):\n",
    "        set_count += 1\n",
    "        record_count = 0\n",
    "\n",
    "    # Create endpoint URL with each city\n",
    "    city_url = f\"https://api.openweathermap.org/data/2.5/weather?q={city}&appid={weather_api_key}&units=metric\"\n",
    "\n",
    "    # Log the url, record, and set numbers\n",
    "    print(\"Processing Record %s of Set %s | %s\" % (record_count, set_count, city))\n",
    "\n",
    "    # Add 1 to the record count\n",
    "    record_count += 1\n",
    "\n",
    "    # Run an API request for each of the cities\n",
    "    try:\n",
    "        # Parse the JSON and retrieve data\n",
    "        city_weather = requests.get(city_url).json()\n",
    "\n",
    "        # Parse out latitude, longitude, max temp, humidity, cloudiness, wind speed, country, and date\n",
    "        city_lat = city_weather[\"coord\"][\"lat\"]\n",
    "        city_lng = city_weather[\"coord\"][\"lon\"]\n",
    "        city_max_temp = city_weather[\"main\"][\"temp_max\"]\n",
    "        city_humidity = city_weather[\"main\"][\"humidity\"]\n",
    "        city_clouds = city_weather[\"clouds\"][\"all\"]\n",
    "        city_wind = city_weather[\"wind\"][\"speed\"]\n",
    "        city_country = city_weather[\"sys\"][\"country\"]\n",
    "        city_date = city_weather[\"dt\"]\n",
    "\n",
    "        # Append the City information into city_data list\n",
    "        city_data.append({\"City\": city,\n",
    "                          \"Lat\": city_lat,\n",
    "                          \"Lng\": city_lng,\n",
    "                          \"Max Temp\": city_max_temp,\n",
    "                          \"Humidity\": city_humidity,\n",
    "                          \"Cloudiness\": city_clouds,\n",
    "                          \"Wind Speed\": city_wind,\n",
    "                          \"Country\": city_country,\n",
    "                          \"Date\": city_date})\n",
    "\n",
    "    # If an error is experienced, skip the city\n",
    "    except:\n",
    "        print(\"City not found. Skipping...\")\n",
    "        pass\n",
    "\n",
    "    # pause to avoid rate limiting\n",
    "    time.sleep(1)\n",
    "\n",
    "# Indicate that Data Loading is complete\n",
    "print(\"-----------------------------\")\n",
    "print(\"Data Retrieval Complete      \")\n",
    "print(\"-----------------------------\")\n"
   ]
  },
  {
   "cell_type": "code",
   "execution_count": null,
   "metadata": {
    "tags": []
   },
   "outputs": [],
   "source": [
    "# Convert the cities weather data into a Pandas DataFrame\n",
    "city_data_df = pd.DataFrame(city_data)\n",
    "# Show Record Count\n",
    "city_data_df.count()\n"
   ]
  },
  {
   "cell_type": "code",
   "execution_count": null,
   "metadata": {
    "tags": []
   },
   "outputs": [],
   "source": [
    "# Display sample data\n",
    "city_data_df.head()\n"
   ]
  },
  {
   "cell_type": "code",
   "execution_count": null,
   "metadata": {
    "tags": []
   },
   "outputs": [],
   "source": [
    "# Export the City_Data into a csv\n",
    "city_data_df.to_csv(\"output_data/cities.csv\", index_label=\"City_ID\")\n"
   ]
  },
  {
   "cell_type": "code",
   "execution_count": null,
   "metadata": {
    "tags": []
   },
   "outputs": [],
   "source": [
    "# Read saved data\n",
    "city_data_df = pd.read_csv(\"output_data/cities.csv\", index_col=\"City_ID\")\n",
    "\n",
    "# Display sample data\n",
    "city_data_df.head()\n"
   ]
  },
  {
   "cell_type": "markdown",
   "metadata": {},
   "source": [
    "### Create the Scatter Plots Requested\n",
    "\n",
    "#### Latitude Vs. Temperature"
   ]
  },
  {
   "cell_type": "code",
   "execution_count": null,
   "metadata": {
    "tags": []
   },
   "outputs": [],
   "source": [
    "from datetime import datetime\n",
    "# Build scatter plot for latitude vs. temperature\n",
    "plt.scatter(city_data_df[\"Lat\"], city_data_df[\"Max Temp\"], edgecolor=\"black\", linewidths=1, marker=\"o\", alpha=0.8)\n",
    "\n",
    "date = datetime.now().strftime(\"%Y-%m-%d\")\n",
    "# Incorporate the other graph properties\n",
    "plt.title(f\"City Max Latitude vs. Temperature ({date})\")\n",
    "plt.xlabel(\"Latitude\")\n",
    "plt.ylabel(\"Max Temperature (C)\")\n",
    "plt.grid(True)\n",
    "\n",
    "# Save the figure\n",
    "plt.savefig(\"output_data/Fig1.png\")\n",
    "\n",
    "# Show plot\n",
    "plt.show()\n"
   ]
  },
  {
   "cell_type": "markdown",
   "metadata": {},
   "source": [
    "#### Latitude Vs. Humidity"
   ]
  },
  {
   "cell_type": "code",
   "execution_count": null,
   "metadata": {
    "tags": []
   },
   "outputs": [],
   "source": [
    "# Build the scatter plots for latitude vs. humidity\n",
    "plt.scatter(city_data_df[\"Lat\"], city_data_df[\"Humidity\"], edgecolor=\"black\", linewidths=1, marker=\"o\", alpha=0.8)\n",
    "\n",
    "# Incorporate the other graph properties\n",
    "plt.title(f\"City Latitude vs. Humidity ({date})\")\n",
    "plt.xlabel(\"Latitude\")\n",
    "plt.ylabel(\"Humidity (%)\")\n",
    "plt.grid(True)\n",
    "\n",
    "# Save the figure\n",
    "plt.savefig(\"output_data/Fig2.png\")\n",
    "\n",
    "# Show plot\n",
    "plt.show()\n"
   ]
  },
  {
   "cell_type": "markdown",
   "metadata": {},
   "source": [
    "#### Latitude Vs. Cloudiness"
   ]
  },
  {
   "cell_type": "code",
   "execution_count": null,
   "metadata": {
    "tags": []
   },
   "outputs": [],
   "source": [
    "# Build the scatter plots for latitude vs. cloudiness\n",
    "plt.scatter(city_data_df[\"Lat\"], city_data_df[\"Cloudiness\"], edgecolor=\"black\", linewidths=1, marker=\"o\", alpha=0.8)\n",
    "\n",
    "\n",
    "# Incorporate the other graph properties\n",
    "plt.title(f\"City Latitude vs. Cloudiness ({date})\")\n",
    "plt.xlabel(\"Latitude\")\n",
    "plt.ylabel(\"Cloudiness (%)\")\n",
    "plt.grid(True)\n",
    "\n",
    "# Save the figure\n",
    "plt.savefig(\"output_data/Fig3.png\")\n",
    "\n",
    "# Show plot\n",
    "plt.show()\n"
   ]
  },
  {
   "cell_type": "markdown",
   "metadata": {},
   "source": [
    "#### Latitude vs. Wind Speed Plot"
   ]
  },
  {
   "cell_type": "code",
   "execution_count": null,
   "metadata": {
    "tags": []
   },
   "outputs": [],
   "source": [
    "# Build the scatter plots for latitude vs. wind speed\n",
    "plt.scatter(city_data_df[\"Lat\"], city_data_df[\"Wind Speed\"], edgecolor=\"black\", linewidths=1, marker=\"o\", alpha=0.8)\n",
    "\n",
    "\n",
    "# Incorporate the other graph properties\n",
    "plt.title(f\"City Latitude vs. Wind Speed ({date})\")\n",
    "plt.xlabel(\"Latitude\")\n",
    "plt.ylabel(\"Wind Speed (m/s)\")\n",
    "plt.grid(True)\n",
    "\n",
    "# Save the figure\n",
    "plt.savefig(\"output_data/Fig4.png\")\n",
    "\n",
    "# Show plot\n",
    "plt.show()\n"
   ]
  },
  {
   "cell_type": "markdown",
   "metadata": {},
   "source": [
    "---\n",
    "\n",
    "## Requirement 2: Compute Linear Regression for Each Relationship\n"
   ]
  },
  {
   "cell_type": "code",
   "execution_count": null,
   "metadata": {
    "tags": []
   },
   "outputs": [],
   "source": [
    "# Define a function to create Linear Regression plots\n",
    "def create_linear_regression_plot(x, y, x_label, y_label, title, output_file):\n",
    "    \"\"\"\n",
    "    Creates a scatter plot with a linear regression line.\n",
    "\n",
    "    Parameters:\n",
    "    x (pd.Series): The data for the x-axis.\n",
    "    y (pd.Series): The data for the y-axis.\n",
    "    x_label (str): The label for the x-axis.\n",
    "    y_label (str): The label for the y-axis.\n",
    "    title (str): The title of the plot.\n",
    "    output_file (str): The file path to save the plot.\n",
    "\n",
    "    Returns:\n",
    "    None\n",
    "    \"\"\"\n",
    "    # Perform linear regression\n",
    "    slope, intercept, r_value, p_value, std_err = linregress(x, y)\n",
    "\n",
    "    # Create scatter plot\n",
    "    plt.scatter(x, y, edgecolor=\"black\", linewidths=1, marker=\"o\", alpha=0.8, label=\"Data Points\")\n",
    "\n",
    "    # Plot the linear regression line\n",
    "    plt.plot(x, slope * x + intercept, color=\"red\")\n",
    "\n",
    "    # Add the linear equation to the plot\n",
    "    # Place the equation in a white space by adjusting xy coordinates\n",
    "    props = dict(boxstyle='round', facecolor='white', alpha=0.8)\n",
    "    plt.gca().annotate(f\"Linear equation: y = {slope:.2f}x + {intercept:.2f}\", \n",
    "                       xy=(0.05, 0.05), xycoords=\"axes fraction\", fontsize=12, color=\"red\",\n",
    "                       horizontalalignment=\"left\", verticalalignment=\"bottom\", bbox=props)\n",
    "\n",
    "    # Add labels and title\n",
    "    plt.xlabel(x_label)\n",
    "    plt.ylabel(y_label)\n",
    "    plt.title(title)\n",
    "    plt.legend()\n",
    "\n",
    "    # Disable the grid\n",
    "    plt.grid(False)\n",
    "\n",
    "    # Save the figure\n",
    "    plt.savefig(output_file)\n",
    "\n",
    "    # Show the plot\n",
    "    plt.show()\n",
    "\n",
    "    # Print the r-value separately\n",
    "    print(f\"The r-value is: {r_value:.2f}\")\n",
    "    "
   ]
  },
  {
   "cell_type": "code",
   "execution_count": null,
   "metadata": {
    "tags": []
   },
   "outputs": [],
   "source": [
    "# Create a DataFrame with the Northern Hemisphere data (Latitude >= 0)\n",
    "northern_hemi_df = city_data_df[city_data_df[\"Lat\"] >= 0]\n",
    "\n",
    "# Display sample data\n",
    "northern_hemi_df.head()\n"
   ]
  },
  {
   "cell_type": "code",
   "execution_count": null,
   "metadata": {
    "tags": []
   },
   "outputs": [],
   "source": [
    "# Create a DataFrame with the Southern Hemisphere data (Latitude < 0)\n",
    "southern_hemi_df = city_data_df[city_data_df[\"Lat\"] < 0]\n",
    "\n",
    "# Display sample data\n",
    "southern_hemi_df.head()\n"
   ]
  },
  {
   "cell_type": "markdown",
   "metadata": {},
   "source": [
    "###  Temperature vs. Latitude Linear Regression Plot"
   ]
  },
  {
   "cell_type": "code",
   "execution_count": null,
   "metadata": {
    "tags": []
   },
   "outputs": [],
   "source": [
    "# Linear regression on Northern Hemisphere\n",
    "# Filter the data for the Northern Hemisphere\n",
    "northern_hemisphere_df = city_data_df[city_data_df[\"Lat\"] >= 0]\n",
    "\n",
    "# Create the linear regression plot for Northern Hemisphere: Temperature vs. Latitude\n",
    "create_linear_regression_plot(\n",
    "    northern_hemisphere_df[\"Lat\"], \n",
    "    northern_hemisphere_df[\"Max Temp\"], \n",
    "    \"Latitude\", \n",
    "    \"Max Temp\", \n",
    "    \"Latitude vs. Max Temperature\", \n",
    "    \"output_data/Northern_Hemisphere_Temperature.png\"\n",
    ")\n"
   ]
  },
  {
   "cell_type": "code",
   "execution_count": null,
   "metadata": {
    "tags": []
   },
   "outputs": [],
   "source": [
    "# Linear regression on Southern Hemisphere\n",
    "# Filter the data for the Southern Hemisphere\n",
    "southern_hemisphere_df = city_data_df[city_data_df[\"Lat\"] < 0]\n",
    "\n",
    "# Create the linear regression plot for Southern Hemisphere: Latitude vs. Max Temperature\n",
    "create_linear_regression_plot(\n",
    "    southern_hemisphere_df[\"Lat\"], \n",
    "    southern_hemisphere_df[\"Max Temp\"], \n",
    "    \"Latitude\", \n",
    "    \"Max Temp\", \n",
    "    \"Latitude vs. Max Temp\", \n",
    "    \"output_data/Southern_Hemisphere_Temperature.png\"\n",
    ")\n"
   ]
  },
  {
   "cell_type": "markdown",
   "metadata": {},
   "source": [
    "**Discussion about the linear relationship:** \n",
    "The linear regression analysis for both the Northern and Southern Hemispheres highlights the relationship between latitude and maximum temperature:\n",
    "\n",
    "Northern Hemisphere:\n",
    "The regression analysis shows a negative correlation between latitude and maximum temperature. As we move away from the equator (latitude increases), temperatures tend to decrease. This is consistent with the expected behavior, as higher latitudes (closer to the poles) are generally cooler due to receiving less direct sunlight.\n",
    "The slope of the regression line indicates that temperature decreases at a steady rate with increasing latitude, reflecting the broad climate gradient from the equator to the poles.\n",
    "\n",
    "Southern Hemisphere:\n",
    "Similar to the Northern Hemisphere, there is a negative correlation between latitude and temperature in the Southern Hemisphere. However, since the Southern Hemisphere is largely covered by oceans, the temperature variations might not be as drastic as in the Northern Hemisphere.\n",
    "As latitude decreases (moving closer to the South Pole), temperatures drop, which reflects cooler conditions typical in southern latitudes.\n",
    "Overall, the analysis demonstrates a clear inverse relationship between latitude and maximum temperature in both hemispheres, with temperatures declining as one moves further from the equator. These findings align with global climate patterns driven by the angle of solar radiation and distance from the equator."
   ]
  },
  {
   "cell_type": "markdown",
   "metadata": {},
   "source": [
    "### Humidity vs. Latitude Linear Regression Plot"
   ]
  },
  {
   "cell_type": "code",
   "execution_count": null,
   "metadata": {
    "tags": []
   },
   "outputs": [],
   "source": [
    "# Northern Hemisphere\n",
    "# Filtrar los datos para el hemisferio norte\n",
    "northern_hemisphere_df = city_data_df[city_data_df[\"Lat\"] >= 0]\n",
    "\n",
    "# Realizar la regresión lineal para Humidity vs. Latitude en el hemisferio norte\n",
    "create_linear_regression_plot(\n",
    "    northern_hemisphere_df[\"Lat\"], \n",
    "    northern_hemisphere_df[\"Humidity\"], \n",
    "    \"Latitude\", \n",
    "    \"Humidity\", \n",
    "    \"Latitude vs. Humidity\", \n",
    "    \"output_data/Northern_Hemisphere_Humidity.png\"\n",
    ")\n"
   ]
  },
  {
   "cell_type": "code",
   "execution_count": null,
   "metadata": {
    "tags": []
   },
   "outputs": [],
   "source": [
    "# Southern Hemisphere\n",
    "# Filtrar los datos para el hemisferio sur\n",
    "southern_hemisphere_df = city_data_df[city_data_df[\"Lat\"] < 0]\n",
    "\n",
    "# Realizar la regresión lineal para Humidity vs. Latitude en el hemisferio sur\n",
    "create_linear_regression_plot(\n",
    "    southern_hemisphere_df[\"Lat\"], \n",
    "    southern_hemisphere_df[\"Humidity\"], \n",
    "    \"Latitude\", \n",
    "    \"Humidity\", \n",
    "    \"Latitude vs. Humidity\", \n",
    "    \"output_data/Southern_Hemisphere_Humidity.png\"\n",
    ")\n"
   ]
  },
  {
   "cell_type": "markdown",
   "metadata": {},
   "source": [
    "**Discussion about the linear relationship:** \n",
    "The linear regression analysis for humidity versus latitude in both the Northern and Southern Hemispheres provides insights into how humidity varies with latitude:\n",
    "\n",
    "Northern Hemisphere:\n",
    "The regression analysis for the Northern Hemisphere shows a weak positive correlation between latitude and humidity. This means that as latitude increases (moving away from the equator), there is a slight increase in humidity. This trend might be due to increased moisture availability in higher latitudes, where temperate and subarctic regions often experience higher relative humidity, especially near bodies of water.\n",
    "The relationship is not very strong, suggesting that factors other than latitude, such as proximity to large bodies of water or local climate conditions, might play a significant role in determining humidity levels.\n",
    "\n",
    "Southern Hemisphere:\n",
    "In the Southern Hemisphere, the linear regression reveals a more noticeable relationship between latitude and humidity. Generally, there is a weak to moderate positive correlation, indicating that as latitude increases (moving towards higher latitudes), humidity tends to increase as well.\n",
    "This pattern could be influenced by the larger expanse of oceanic areas in the Southern Hemisphere, which contribute to higher humidity levels in coastal and tropical regions. Additionally, the relatively smaller landmass compared to the Northern Hemisphere might lead to more uniform humidity distribution influenced by oceanic conditions.\n",
    "In summary, while both hemispheres show some degree of correlation between latitude and humidity, the relationships are relatively weak. This suggests that latitude alone is not a dominant factor in determining humidity levels, and other regional climate factors, such as proximity to oceans, prevailing wind patterns, and local geographic features, also play significant roles."
   ]
  },
  {
   "cell_type": "markdown",
   "metadata": {},
   "source": [
    "### Cloudiness vs. Latitude Linear Regression Plot"
   ]
  },
  {
   "cell_type": "code",
   "execution_count": null,
   "metadata": {
    "tags": []
   },
   "outputs": [],
   "source": [
    "# Northern Hemisphere\n",
    "# Filtrar los datos para el hemisferio norte\n",
    "northern_hemisphere_df = city_data_df[city_data_df[\"Lat\"] >= 0]\n",
    "\n",
    "# Realizar la regresión lineal para Cloudiness vs. Latitude en el hemisferio norte\n",
    "create_linear_regression_plot(\n",
    "    northern_hemisphere_df[\"Lat\"], \n",
    "    northern_hemisphere_df[\"Cloudiness\"], \n",
    "    \"Latitude\", \n",
    "    \"Cloudiness (%)\", \n",
    "    \"Northern Hemisphere: Latitude vs. Cloudiness\", \n",
    "    \"output_data/Northern_Hemisphere_Cloudiness.png\"\n",
    ")\n"
   ]
  },
  {
   "cell_type": "code",
   "execution_count": null,
   "metadata": {
    "tags": []
   },
   "outputs": [],
   "source": [
    "# Southern Hemisphere\n",
    "# Filtrar los datos para el hemisferio sur\n",
    "southern_hemisphere_df = city_data_df[city_data_df[\"Lat\"] < 0]\n",
    "\n",
    "# Realizar la regresión lineal para Cloudiness vs. Latitude en el hemisferio sur\n",
    "create_linear_regression_plot(\n",
    "    southern_hemisphere_df[\"Lat\"], \n",
    "    southern_hemisphere_df[\"Cloudiness\"], \n",
    "    \"Latitude\", \n",
    "    \"Cloudiness (%)\", \n",
    "    \"Southern Hemisphere: Latitude vs. Cloudiness\", \n",
    "    \"output_data/Southern_Hemisphere_Cloudiness.png\"\n",
    ")\n"
   ]
  },
  {
   "cell_type": "markdown",
   "metadata": {},
   "source": [
    "**Discussion about the linear relationship:** \n",
    "\n",
    "Northern Hemisphere:\n",
    "The linear regression analysis for cloudiness versus latitude in the Northern Hemisphere might reveal a specific pattern or trend. Generally, cloudiness can be influenced by several factors such as geographic location, proximity to water bodies, and prevailing weather systems.\n",
    "If the plot shows a trend where cloudiness increases or decreases with latitude, it may indicate how cloud cover is influenced by seasonal changes or climatic zones. For instance, higher latitudes might experience different cloud patterns due to varying temperatures and atmospheric conditions compared to lower latitudes.\n",
    "\n",
    "Southern Hemisphere:\n",
    "Similarly, in the Southern Hemisphere, the relationship between latitude and cloudiness will provide insights into how cloud cover varies with latitude. The Southern Hemisphere's cloudiness may be influenced by its vast oceanic expanses and its distinct climatic zones, which can affect cloud formation and distribution.\n",
    "A clear trend might be observed in the plot, showing whether cloudiness increases or decreases as you move towards the poles or the equator. This can reveal patterns related to ocean currents, atmospheric pressure systems, and seasonal variations.\n",
    "\n",
    "In summary, analyzing the linear relationship between cloudiness and latitude in both hemispheres can provide valuable insights into how cloud cover varies with geographical position, while also highlighting the influence of other climatic and meteorological factors."
   ]
  },
  {
   "cell_type": "markdown",
   "metadata": {},
   "source": [
    "### Wind Speed vs. Latitude Linear Regression Plot"
   ]
  },
  {
   "cell_type": "code",
   "execution_count": null,
   "metadata": {
    "tags": []
   },
   "outputs": [],
   "source": [
    "# Northern Hemisphere\n",
    "# Filtrar los datos para el hemisferio norte\n",
    "northern_hemisphere_df = city_data_df[city_data_df[\"Lat\"] >= 0]\n",
    "\n",
    "# Realizar la regresión lineal para Wind Speed vs. Latitude en el hemisferio norte\n",
    "create_linear_regression_plot(\n",
    "    northern_hemisphere_df[\"Lat\"], \n",
    "    northern_hemisphere_df[\"Wind Speed\"], \n",
    "    \"Latitude\", \n",
    "    \"Wind Speed (mph)\", \n",
    "    \"Northern Hemisphere: Latitude vs. Wind Speed\", \n",
    "    \"output_data/Northern_Hemisphere_Wind_Speed.png\"\n",
    ")\n"
   ]
  },
  {
   "cell_type": "code",
   "execution_count": null,
   "metadata": {
    "tags": []
   },
   "outputs": [],
   "source": [
    "# Southern Hemisphere\n",
    "# Filtrar los datos para el hemisferio sur\n",
    "southern_hemisphere_df = city_data_df[city_data_df[\"Lat\"] < 0]\n",
    "\n",
    "# Realizar la regresión lineal para Wind Speed vs. Latitude en el hemisferio sur\n",
    "create_linear_regression_plot(\n",
    "    southern_hemisphere_df[\"Lat\"], \n",
    "    southern_hemisphere_df[\"Wind Speed\"], \n",
    "    \"Latitude\", \n",
    "    \"Wind Speed (mph)\", \n",
    "    \"Southern Hemisphere: Latitude vs. Wind Speed\", \n",
    "    \"output_data/Southern_Hemisphere_Wind_Speed.png\"\n",
    ")\n"
   ]
  },
  {
   "cell_type": "markdown",
   "metadata": {},
   "source": [
    "**Discussion about the linear relationship:** \n",
    "\n",
    "Northern Hemisphere:\n",
    "Trend Observation: The linear regression plot of wind speed versus latitude in the Northern Hemisphere may exhibit certain patterns. Typically, wind speeds can be influenced by atmospheric pressure gradients, geographic features, and seasonal weather patterns.\n",
    "Possible Findings: If the plot shows a clear trend where wind speeds increase or decrease with latitude, this might be related to the influence of large-scale weather systems such as the jet stream, which tends to shift with seasons and latitudinal changes. For example, mid-latitude regions might experience higher wind speeds due to stronger pressure gradients associated with storm systems.\n",
    "\n",
    "Southern Hemisphere:\n",
    "Trend Observation: The relationship between latitude and wind speed in the Southern Hemisphere might present different trends compared to the Northern Hemisphere. The Southern Hemisphere is dominated by oceanic expanses, which can affect wind patterns differently.\n",
    "Possible Findings: If the plot shows a noticeable trend, it might reflect the impact of large-scale oceanic and atmospheric circulation patterns such as the Southern Hemisphere's westerlies, which can influence wind speeds in different latitudinal zones. The Southern Ocean, in particular, might contribute to higher wind speeds in higher latitudes.\n",
    "\n",
    "In summary, analyzing the linear relationship between wind speed and latitude in both hemispheres can help identify regional patterns and factors influencing wind speeds. It provides insights into how wind patterns vary with geographic location and the interplay of atmospheric conditions across different latitudes.\n"
   ]
  },
  {
   "cell_type": "code",
   "execution_count": null,
   "metadata": {},
   "outputs": [],
   "source": []
  }
 ],
 "metadata": {
  "anaconda-cloud": {},
  "kernel_info": {
   "name": "python3"
  },
  "kernelspec": {
   "display_name": "Python 3 (ipykernel)",
   "language": "python",
   "name": "python3"
  },
  "language_info": {
   "codemirror_mode": {
    "name": "ipython",
    "version": 3
   },
   "file_extension": ".py",
   "mimetype": "text/x-python",
   "name": "python",
   "nbconvert_exporter": "python",
   "pygments_lexer": "ipython3",
   "version": "3.11.7"
  },
  "latex_envs": {
   "LaTeX_envs_menu_present": true,
   "autoclose": false,
   "autocomplete": true,
   "bibliofile": "biblio.bib",
   "cite_by": "apalike",
   "current_citInitial": 1,
   "eqLabelWithNumbers": true,
   "eqNumInitial": 1,
   "hotkeys": {
    "equation": "Ctrl-E",
    "itemize": "Ctrl-I"
   },
   "labels_anchors": false,
   "latex_user_defs": false,
   "report_style_numbering": false,
   "user_envs_cfg": false
  },
  "nteract": {
   "version": "0.12.3"
  }
 },
 "nbformat": 4,
 "nbformat_minor": 4
}
